{
 "cells": [
  {
   "cell_type": "markdown",
   "metadata": {},
   "source": [
    "![](https://upload.wikimedia.org/wikipedia/commons/7/7c/Kaggle_logo.png)\n",
    "\n",
    "# Kaggle 입문반\n",
    "<font size=4><b>Titanic 예제로 살펴보는 Competition 구성</b></font>"
   ]
  },
  {
   "cell_type": "markdown",
   "metadata": {
    "toc": true
   },
   "source": [
    "<h1>이번 장 내용<span class=\"tocSkip\"></span></h1>\n",
    "<div class=\"toc\"><ul class=\"toc-item\"><li><span><a href=\"#Overview\" data-toc-modified-id=\"Overview-1\"><span class=\"toc-item-num\">1&nbsp;&nbsp;</span>Overview</a></span><ul class=\"toc-item\"><li><span><a href=\"#Description\" data-toc-modified-id=\"Description-1.1\"><span class=\"toc-item-num\">1.1&nbsp;&nbsp;</span>Description</a></span><ul class=\"toc-item\"><li><span><a href=\"#Start-here-if...\" data-toc-modified-id=\"Start-here-if...-1.1.1\"><span class=\"toc-item-num\">1.1.1&nbsp;&nbsp;</span>Start here if...</a></span></li><li><span><a href=\"#Competition-Description\" data-toc-modified-id=\"Competition-Description-1.1.2\"><span class=\"toc-item-num\">1.1.2&nbsp;&nbsp;</span>Competition Description</a></span></li><li><span><a href=\"#Practice-Skills\" data-toc-modified-id=\"Practice-Skills-1.1.3\"><span class=\"toc-item-num\">1.1.3&nbsp;&nbsp;</span>Practice Skills</a></span></li></ul></li><li><span><a href=\"#Evaluation\" data-toc-modified-id=\"Evaluation-1.2\"><span class=\"toc-item-num\">1.2&nbsp;&nbsp;</span>Evaluation</a></span><ul class=\"toc-item\"><li><span><a href=\"#Goal\" data-toc-modified-id=\"Goal-1.2.1\"><span class=\"toc-item-num\">1.2.1&nbsp;&nbsp;</span>Goal</a></span></li><li><span><a href=\"#Metric\" data-toc-modified-id=\"Metric-1.2.2\"><span class=\"toc-item-num\">1.2.2&nbsp;&nbsp;</span>Metric</a></span></li><li><span><a href=\"#Submission-File-Format\" data-toc-modified-id=\"Submission-File-Format-1.2.3\"><span class=\"toc-item-num\">1.2.3&nbsp;&nbsp;</span>Submission File Format</a></span></li></ul></li><li><span><a href=\"#Tutorials\" data-toc-modified-id=\"Tutorials-1.3\"><span class=\"toc-item-num\">1.3&nbsp;&nbsp;</span>Tutorials</a></span><ul class=\"toc-item\"><li><span><a href=\"#Kaggle-Learn\" data-toc-modified-id=\"Kaggle-Learn-1.3.1\"><span class=\"toc-item-num\">1.3.1&nbsp;&nbsp;</span>Kaggle Learn</a></span></li><li><span><a href=\"#Other-Tutorials-Using-Python\" data-toc-modified-id=\"Other-Tutorials-Using-Python-1.3.2\"><span class=\"toc-item-num\">1.3.2&nbsp;&nbsp;</span>Other Tutorials Using Python</a></span></li><li><span><a href=\"#Other-Tutorials-Using-R\" data-toc-modified-id=\"Other-Tutorials-Using-R-1.3.3\"><span class=\"toc-item-num\">1.3.3&nbsp;&nbsp;</span>Other Tutorials Using R</a></span></li><li><span><a href=\"#Tutorials-Using-Excel\" data-toc-modified-id=\"Tutorials-Using-Excel-1.3.4\"><span class=\"toc-item-num\">1.3.4&nbsp;&nbsp;</span>Tutorials Using Excel</a></span></li></ul></li><li><span><a href=\"#Frequently-Asked-Questions\" data-toc-modified-id=\"Frequently-Asked-Questions-1.4\"><span class=\"toc-item-num\">1.4&nbsp;&nbsp;</span>Frequently Asked Questions</a></span><ul class=\"toc-item\"><li><span><a href=\"#What-is-a-Getting-Started-competition?\" data-toc-modified-id=\"What-is-a-Getting-Started-competition?-1.4.1\"><span class=\"toc-item-num\">1.4.1&nbsp;&nbsp;</span>What is a Getting Started competition?</a></span></li><li><span><a href=\"#What’s-the-difference-between-a-private-and-public-leaderboard?\" data-toc-modified-id=\"What’s-the-difference-between-a-private-and-public-leaderboard?-1.4.2\"><span class=\"toc-item-num\">1.4.2&nbsp;&nbsp;</span>What’s the difference between a private and public leaderboard?</a></span></li><li><span><a href=\"#How-do-I-create-and-manage-a-team?\" data-toc-modified-id=\"How-do-I-create-and-manage-a-team?-1.4.3\"><span class=\"toc-item-num\">1.4.3&nbsp;&nbsp;</span>How do I create and manage a team?</a></span></li><li><span><a href=\"#What-are-kernels?\" data-toc-modified-id=\"What-are-kernels?-1.4.4\"><span class=\"toc-item-num\">1.4.4&nbsp;&nbsp;</span>What are kernels?</a></span></li><li><span><a href=\"#Why-did-my-team-disappear-from-the-leaderboard?\" data-toc-modified-id=\"Why-did-my-team-disappear-from-the-leaderboard?-1.4.5\"><span class=\"toc-item-num\">1.4.5&nbsp;&nbsp;</span>Why did my team disappear from the leaderboard?</a></span></li><li><span><a href=\"#How-do-I-contact-Support?\" data-toc-modified-id=\"How-do-I-contact-Support?-1.4.6\"><span class=\"toc-item-num\">1.4.6&nbsp;&nbsp;</span>How do I contact Support?</a></span></li></ul></li></ul></li><li><span><a href=\"#Data\" data-toc-modified-id=\"Data-2\"><span class=\"toc-item-num\">2&nbsp;&nbsp;</span>Data</a></span><ul class=\"toc-item\"><li><span><a href=\"#Data-Description\" data-toc-modified-id=\"Data-Description-2.1\"><span class=\"toc-item-num\">2.1&nbsp;&nbsp;</span>Data Description</a></span><ul class=\"toc-item\"><li><span><a href=\"#Overview\" data-toc-modified-id=\"Overview-2.1.1\"><span class=\"toc-item-num\">2.1.1&nbsp;&nbsp;</span>Overview</a></span></li><li><span><a href=\"#Data-Dictionary\" data-toc-modified-id=\"Data-Dictionary-2.1.2\"><span class=\"toc-item-num\">2.1.2&nbsp;&nbsp;</span>Data Dictionary</a></span></li><li><span><a href=\"#Variable-Notes\" data-toc-modified-id=\"Variable-Notes-2.1.3\"><span class=\"toc-item-num\">2.1.3&nbsp;&nbsp;</span>Variable Notes</a></span></li></ul></li><li><span><a href=\"#Data\" data-toc-modified-id=\"Data-2.2\"><span class=\"toc-item-num\">2.2&nbsp;&nbsp;</span>Data</a></span></li></ul></li><li><span><a href=\"#Notebooks\" data-toc-modified-id=\"Notebooks-3\"><span class=\"toc-item-num\">3&nbsp;&nbsp;</span>Notebooks</a></span></li><li><span><a href=\"#Disscusion\" data-toc-modified-id=\"Disscusion-4\"><span class=\"toc-item-num\">4&nbsp;&nbsp;</span>Disscusion</a></span></li><li><span><a href=\"#Leaderboard\" data-toc-modified-id=\"Leaderboard-5\"><span class=\"toc-item-num\">5&nbsp;&nbsp;</span>Leaderboard</a></span></li><li><span><a href=\"#Rules\" data-toc-modified-id=\"Rules-6\"><span class=\"toc-item-num\">6&nbsp;&nbsp;</span>Rules</a></span><ul class=\"toc-item\"><li><span><a href=\"#One-account-per-participant\" data-toc-modified-id=\"One-account-per-participant-6.1\"><span class=\"toc-item-num\">6.1&nbsp;&nbsp;</span>One account per participant</a></span></li><li><span><a href=\"#No-private-sharing-outside-teams\" data-toc-modified-id=\"No-private-sharing-outside-teams-6.2\"><span class=\"toc-item-num\">6.2&nbsp;&nbsp;</span>No private sharing outside teams</a></span></li><li><span><a href=\"#Team-Mergers\" data-toc-modified-id=\"Team-Mergers-6.3\"><span class=\"toc-item-num\">6.3&nbsp;&nbsp;</span>Team Mergers</a></span></li><li><span><a href=\"#Team-Limits\" data-toc-modified-id=\"Team-Limits-6.4\"><span class=\"toc-item-num\">6.4&nbsp;&nbsp;</span>Team Limits</a></span></li><li><span><a href=\"#Submission-Limits\" data-toc-modified-id=\"Submission-Limits-6.5\"><span class=\"toc-item-num\">6.5&nbsp;&nbsp;</span>Submission Limits</a></span></li><li><span><a href=\"#Competition-Timeline\" data-toc-modified-id=\"Competition-Timeline-6.6\"><span class=\"toc-item-num\">6.6&nbsp;&nbsp;</span>Competition Timeline</a></span></li></ul></li><li><span><a href=\"#Team\" data-toc-modified-id=\"Team-7\"><span class=\"toc-item-num\">7&nbsp;&nbsp;</span>Team</a></span></li><li><span><a href=\"#Reference\" data-toc-modified-id=\"Reference-8\"><span class=\"toc-item-num\">8&nbsp;&nbsp;</span>Reference</a></span></li></ul></div>"
   ]
  },
  {
   "cell_type": "markdown",
   "metadata": {},
   "source": [
    "## Overview"
   ]
  },
  {
   "cell_type": "markdown",
   "metadata": {},
   "source": [
    "![](../img/titanic-page-overview.png)"
   ]
  },
  {
   "cell_type": "markdown",
   "metadata": {},
   "source": [
    "### Description\n",
    "\n",
    "#### Start here if...\n",
    "You're new to data science and machine learning, or looking for a simple intro to the Kaggle prediction competitions.\n",
    "\n",
    "#### Competition Description\n",
    "The sinking of the RMS Titanic is one of the most infamous shipwrecks in history.  On April 15, 1912, during her maiden voyage, the Titanic sank after colliding with an iceberg, killing 1502 out of 2224 passengers and crew. This sensational tragedy shocked the international community and led to better safety regulations for ships.\n",
    "\n",
    "One of the reasons that the shipwreck led to such loss of life was that there were not enough lifeboats for the passengers and crew. Although there was some element of luck involved in surviving the sinking, some groups of people were more likely to survive than others, such as women, children, and the upper-class.\n",
    "\n",
    "In this challenge, we ask you to complete the analysis of what sorts of people were likely to survive. In particular, we ask you to apply the tools of machine learning to predict which passengers survived the tragedy.\n",
    "\n",
    "#### Practice Skills\n",
    "Binary classification\n",
    "Python and R basics"
   ]
  },
  {
   "cell_type": "markdown",
   "metadata": {},
   "source": [
    "### Evaluation\n",
    "\n",
    "#### Goal\n",
    "It is your job to predict if a passenger survived the sinking of the Titanic or not.\n",
    "For each in the test set, you must predict a 0 or 1 value for the variable.\n",
    "\n",
    "#### Metric\n",
    "Your score is the percentage of passengers you correctly predict. This is known simply as \"accuracy”.\n",
    "\n",
    "#### Submission File Format\n",
    "You should submit a csv file with exactly 418 entries plus a header row. Your submission will show an error if you have extra columns (beyond PassengerId and Survived) or rows.\n",
    "\n",
    "The file should have exactly 2 columns:\n",
    "\n",
    "PassengerId (sorted in any order)\n",
    "Survived (contains your binary predictions: 1 for survived, 0 for deceased)\n",
    "```\n",
    "PassengerId,Survived\n",
    " 892,0\n",
    " 893,1\n",
    " 894,0\n",
    " Etc.\n",
    "```\n",
    "You can download an example submission file (gender_submission.csv) on the Data page."
   ]
  },
  {
   "cell_type": "markdown",
   "metadata": {},
   "source": [
    "### Tutorials\n",
    "\n",
    "#### Kaggle Learn\n",
    "Kaggle Learn offers hands-on courses for most data science topics. These short courses will quickly prepare you with the key ideas to build your own projects.\n",
    "\n",
    "The Machine Learning Course will give you everything you need to succeed in the Titanic competition and others like it.\n",
    "\n",
    "#### Other Tutorials Using Python\n",
    "Start with this easy-to-follow approach to using popular Python modules:\n",
    "\n",
    "Titanic Data Science Solutions Python Notebook\n",
    "\n",
    "Use pandas for data manipulation\n",
    "Use matplotlib and seaborn for data visualization\n",
    "Learn to build models with scikit-learn\n",
    "These Python kernels cover more advanced techniques and complex approaches:\n",
    "\n",
    "An Interactive Data Science Tutorial\n",
    "\n",
    "Get familiar with using Jupyter notebooks  \n",
    "Learn the importance of feature selection in machine learning\n",
    "Machine Learning from Start to Finish with Scikit-Learn\n",
    "\n",
    "Use cross-validation to make sure your model generalizes to new data (i.e., it doesn’t “overfit”)\n",
    "Use parameter tuning and grid search to select the best performing model out of several different classification algorithms\n",
    "XGBoost Example\n",
    "\n",
    "Learn how to the extremely popular XGBoost algorithm\n",
    "Click “show more” on the code tab to study the script\n",
    "An Introduction to Ensembling/Stacking in Python:\n",
    "\n",
    "Use the fundamental skill of “ensembling” to combine the predictions of several models\n",
    "\n",
    "#### Other Tutorials Using R\n",
    "Exploring Survival on the Titanic\n",
    "\n",
    "The basics of feature engineering and data visualization\n",
    "How to deal with missing values in the dataset\n",
    "How to train a random forest classifier to make a prediction\n",
    "If you’re not familiar with Rmarkdown, click on the “Code” tab to see the underlying code\n",
    "Families are Not Good For Survival\n",
    "\n",
    "Learn techniques to understand how your models are making predictions\n",
    "Use a visualization of a decision tree algorithm to compare different models\n",
    "Determine how features contribute to prediction accuracy\n",
    "\n",
    "#### Tutorials Using Excel\n",
    "Excel: A tutorial on basic machine learning concepts in a familiar tool."
   ]
  },
  {
   "cell_type": "markdown",
   "metadata": {},
   "source": [
    "### Frequently Asked Questions\n",
    "\n",
    "#### What is a Getting Started competition?\n",
    "Getting Started competitions were created by Kaggle data scientists for people who have little to no machine learning background. They are a great place to begin if you are new to data science or just finished a MOOC and want to get involved in Kaggle.\n",
    "\n",
    "Getting Started competitions are a non-competitive way to get familiar with Kaggle’s platform, learn basic machine learning concepts, and start meeting people in the community. They have no cash prize and are on a rolling timeline.\n",
    "\n",
    "#### What’s the difference between a private and public leaderboard?\n",
    "The Kaggle leaderboard has a public and private component to prevent participants from “overfitting” to the leaderboard. If your model is “overfit” to a dataset then it is not generalizable outside of the dataset you trained it on. This means that your model would have low accuracy on another sample of data taken from a similar dataset.\n",
    "\n",
    "Public Leaderboard\n",
    "\n",
    "For all participants, the same 50% of predictions from the test set are assigned to the public leaderboard. The score you see on the public leaderboard reflects your model’s accuracy on this portion of the test set.\n",
    "\n",
    "Private Leaderboard\n",
    "\n",
    "The other 50% of predictions from the test set are assigned to the private leaderboard. The private leaderboard is not visible to participants until the competition has concluded. At the end of a competition, we will reveal the private leaderboard so you can see your score on the other 50% of the test data. The scores on the private leaderboard are used to determine the competition winners. Getting Started competitions are run on a rolling timeline so the private leaderboard is never revealed.\n",
    "\n",
    "#### How do I create and manage a team?\n",
    "When you accept the competition rules, a team will be created for you. You can invite others to your team, accept a merger with another team, and update basic information like team name by going to the More < Team page.\n",
    "\n",
    "We've heard from many Kagglers that teaming up is the best way to learn new skills AND have fun. If you don't have a teammate already, consider asking if anyone wants to team up in the discussion forum.\n",
    "\n",
    "#### What are kernels?\n",
    "Kaggle Kernels is a cloud computational environment that enables reproducible and collaborative analysis. Kernels supports scripts in R and Python, Jupyter Notebooks, and RMarkdown reports. Go to the Kernels tab to view all of the publicly shared code on this competition. For more on how to use Kernels to learn data science, visit the Tutorials tab.\n",
    "\n",
    "#### Why did my team disappear from the leaderboard?\n",
    "To keep with the spirit of getting-started competitions, we have implemented a two month rolling window on submissions. Once a submission is more than two months old, it will be invalidated and no longer count towards the leaderboard.\n",
    "\n",
    "If your team has no submissions in the previous two months, the team will also drop from the leaderboard. This will keep the leaderboard at a manageable size, freshen it up, and prevent newcomers from getting lost in a sea of abandoned scores.\n",
    "\n",
    "\"I worked so hard to get that score! Give it back!\" Read more about our decision to implement a rolling leaderboard here.\n",
    "\n",
    "#### How do I contact Support?\n",
    "Kaggle does not have a dedicated support team so you’ll typically find that you receive a response more quickly by asking your question in the appropriate forum. (For this competition, you’ll want to use the Titanic discussion forum).\n",
    "\n",
    "Support is only able to help with issues that are being experienced by all participants. Before contacting support, please check the discussion forum for information on your problem. If you can’t find it, you can post your problem in the forum so a fellow participant or a Kaggle team member can provide help. The forums are full of useful information on the data, metric, and different approaches. We encourage you to use the forums often. If you share your knowledge, you'll find that others will share a lot in turn!\n",
    "\n",
    "If your problem persists or it seems to be effective all participants then please contact us."
   ]
  },
  {
   "cell_type": "markdown",
   "metadata": {},
   "source": [
    "---\n",
    "\n",
    "## Data"
   ]
  },
  {
   "cell_type": "markdown",
   "metadata": {},
   "source": [
    "![](../img/titanic-page-data.png)"
   ]
  },
  {
   "cell_type": "markdown",
   "metadata": {},
   "source": [
    "### Data Description\n",
    "\n",
    "#### Overview\n",
    "The data has been split into two groups:\n",
    "\n",
    "training set (train.csv)\n",
    "test set (test.csv)\n",
    "The training set should be used to build your machine learning models. For the training set, we provide the outcome (also known as the “ground truth”) for each passenger. Your model will be based on “features” like passengers’ gender and class. You can also use feature engineering to create new features.\n",
    "\n",
    "The test set should be used to see how well your model performs on unseen data. For the test set, we do not provide the ground truth for each passenger. It is your job to predict these outcomes. For each passenger in the test set, use the model you trained to predict whether or not they survived the sinking of the Titanic.\n",
    "\n",
    "We also include gender_submission.csv, a set of predictions that assume all and only female passengers survive, as an example of what a submission file should look like.\n",
    "\n",
    "#### Data Dictionary\n",
    "Variable\tDefinition\tKey  \n",
    "survival\tSurvival\t0 = No, 1 = Yes  \n",
    "pclass\tTicket class\t1 = 1st, 2 = 2nd, 3 = 3rd  \n",
    "sex\tSex\t \n",
    "Age\tAge in years  \n",
    "sibsp\t# of siblings / spouses aboard the Titanic\t  \n",
    "parch\t# of parents / children aboard the Titanic\t  \n",
    "ticket\tTicket number\t  \n",
    "fare\tPassenger fare\t  \n",
    "cabin\tCabin number\t  \n",
    "embarked\tPort of Embarkation\tC = Cherbourg, Q = Queenstown, S = Southampton  \n",
    "\n",
    "#### Variable Notes\n",
    "pclass: A proxy for socio-economic status (SES)\n",
    "1st = Upper\n",
    "2nd = Middle\n",
    "3rd = Lower\n",
    "\n",
    "age: Age is fractional if less than 1. If the age is estimated, is it in the form of xx.5\n",
    "\n",
    "sibsp: The dataset defines family relations in this way...\n",
    "Sibling = brother, sister, stepbrother, stepsister\n",
    "Spouse = husband, wife (mistresses and fiancés were ignored)\n",
    "\n",
    "parch: The dataset defines family relations in this way...\n",
    "Parent = mother, father\n",
    "Child = daughter, son, stepdaughter, stepson\n",
    "Some children travelled only with a nanny, therefore parch=0 for them."
   ]
  },
  {
   "cell_type": "markdown",
   "metadata": {},
   "source": [
    "### Data\n",
    "\n",
    "- `Download All`버튼을 통해서 **Zip**파일로 다운로드 가능합니다.\n",
    "- API를 통해서 자료를 다운 받을 수 있습니다.\n",
    "```\n",
    "kaggle competitions download -c titanic\n",
    "```\n",
    "\n",
    "\n",
    "![](../img/titanic-page-data2.png)"
   ]
  },
  {
   "cell_type": "markdown",
   "metadata": {},
   "source": [
    "---\n",
    "\n",
    "## Notebooks"
   ]
  },
  {
   "cell_type": "markdown",
   "metadata": {},
   "source": [
    "![](../img/titanic-page-notebooks.png)"
   ]
  },
  {
   "cell_type": "markdown",
   "metadata": {},
   "source": [
    "---\n",
    "\n",
    "## Disscusion"
   ]
  },
  {
   "cell_type": "markdown",
   "metadata": {},
   "source": [
    "![](../img/titanic-page-disscusion.png)"
   ]
  },
  {
   "cell_type": "markdown",
   "metadata": {},
   "source": [
    "---\n",
    "\n",
    "## Leaderboard"
   ]
  },
  {
   "cell_type": "markdown",
   "metadata": {},
   "source": [
    "![](../img/titanic-page-leaderboard.png)"
   ]
  },
  {
   "cell_type": "markdown",
   "metadata": {},
   "source": [
    "---\n",
    "\n",
    "## Rules"
   ]
  },
  {
   "cell_type": "markdown",
   "metadata": {},
   "source": [
    "![](../img/titanic-page-rules.png)"
   ]
  },
  {
   "cell_type": "markdown",
   "metadata": {},
   "source": [
    "### One account per participant\n",
    "You cannot sign up to Kaggle from multiple accounts and therefore you cannot submit from multiple accounts.\n",
    "\n",
    "### No private sharing outside teams\n",
    "Privately sharing code or data outside of teams is not permitted. It's okay to share code if made available to all participants on the forums.\n",
    "\n",
    "### Team Mergers\n",
    "Team mergers are allowed and can be performed by the team leader. In order to merge, the combined team must have a total submission count less than or equal to the maximum allowed as of the merge date. The maximum allowed is the number of submissions per day multiplied by the number of days the competition has been running.\n",
    "\n",
    "### Team Limits\n",
    "There is no maximum team size.\n",
    "\n",
    "### Submission Limits\n",
    "You may submit a maximum of 10 entries per day.\n",
    "\n",
    "You may select up to 5 final submissions for judging.\n",
    "\n",
    "### Competition Timeline\n",
    "Start Date: 9/28/2012 9:13 PM UTC\n",
    "\n",
    "Merger Deadline: None\n",
    "\n",
    "Entry Deadline: None\n",
    "\n",
    "End Date: None\n",
    "\n",
    "This is a fun competition aimed at helping you get started with machine learning.  While the Titanic dataset is publicly available on the internet, looking up the answers defeats the entire purpose.  So seriously, don't do that."
   ]
  },
  {
   "cell_type": "markdown",
   "metadata": {},
   "source": [
    "---\n",
    "\n",
    "## Team"
   ]
  },
  {
   "cell_type": "markdown",
   "metadata": {},
   "source": [
    "![](../img/titanic-page-team.png)"
   ]
  },
  {
   "cell_type": "markdown",
   "metadata": {},
   "source": [
    "---\n",
    "\n",
    "## Reference"
   ]
  },
  {
   "cell_type": "markdown",
   "metadata": {},
   "source": [
    "- Kaggle : https://www.kaggle.com\n",
    "- Kaggle Titanic : https://www.kaggle.com/c/titanic\n",
    "- "
   ]
  }
 ],
 "metadata": {
  "kernelspec": {
   "display_name": "Python 3",
   "language": "python",
   "name": "python3"
  },
  "language_info": {
   "codemirror_mode": {
    "name": "ipython",
    "version": 3
   },
   "file_extension": ".py",
   "mimetype": "text/x-python",
   "name": "python",
   "nbconvert_exporter": "python",
   "pygments_lexer": "ipython3",
   "version": "3.6.8"
  },
  "toc": {
   "base_numbering": 1,
   "nav_menu": {},
   "number_sections": true,
   "sideBar": true,
   "skip_h1_title": true,
   "title_cell": "이번 장 내용",
   "title_sidebar": "이번 장 내용",
   "toc_cell": true,
   "toc_position": {},
   "toc_section_display": true,
   "toc_window_display": true
  }
 },
 "nbformat": 4,
 "nbformat_minor": 2
}
